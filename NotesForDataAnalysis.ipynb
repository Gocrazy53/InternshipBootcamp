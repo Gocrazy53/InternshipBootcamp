{
  "nbformat": 4,
  "nbformat_minor": 0,
  "metadata": {
    "colab": {
      "provenance": [],
      "authorship_tag": "ABX9TyOZM6pKHzuHX4WLw5yUs5lR",
      "include_colab_link": true
    },
    "kernelspec": {
      "name": "python3",
      "display_name": "Python 3"
    },
    "language_info": {
      "name": "python"
    }
  },
  "cells": [
    {
      "cell_type": "markdown",
      "metadata": {
        "id": "view-in-github",
        "colab_type": "text"
      },
      "source": [
        "<a href=\"https://colab.research.google.com/github/Gocrazy53/InternshipBootcamp/blob/main/NotesForDataAnalysis.ipynb\" target=\"_parent\"><img src=\"https://colab.research.google.com/assets/colab-badge.svg\" alt=\"Open In Colab\"/></a>"
      ]
    },
    {
      "cell_type": "code",
      "execution_count": null,
      "metadata": {
        "id": "IUAkrkXOqOzL"
      },
      "outputs": [],
      "source": [
        "#first importing panda library\n",
        "import pandas as pd\n",
        "titanic_csv = pd.read_csv('github-raw-link');\n",
        "titanic_xlsx = pd.read_xlsx('github-raw-link');\n",
        "titanic_json = pd.read_json('github-raw-link');\n",
        "titanic_html = pd.read_html('github-raw-link');\n",
        "\n",
        "# For printing first 5 rows\n",
        "titanic.head()\n",
        "\n",
        "#For printing last 5 rows\n",
        "titanic.tail()\n",
        "\n",
        "\n",
        "# For printing the complete information about the data in columns heading\n",
        "titanic.info()\n",
        "\n",
        "#display summary stats of numerical columns\n",
        "titanic.describe()\n",
        "\n",
        "#display summary stats of all columns\n",
        "titanic.describe(include = 'all')\n",
        "\n",
        "# display shape\n",
        "titanic.shape()\n",
        "\n",
        "#display column labels\n",
        "titanic.columns\n",
        "\n",
        "#select a column as a series\n",
        "titanic['sex']\n",
        "titanic['sex'].shape\n",
        "\n",
        "# select a column as a data frame\n",
        "titanic[['sex']]\n",
        "titanic[['sex']].shape\n",
        "\n",
        "#unique categories in a column\n",
        "titanic['sex'].unique()\n",
        "\n",
        "#Number of unique categories in a column\n",
        "titanic['sex'].nunique()\n",
        "\n",
        "# categories wise number of observations in a column\n",
        "titanic['sex'].value_counts()\n",
        "\n",
        "\n",
        "#count of missing values\n",
        "titanic.isna().sum()\n",
        "titanic.isnull().sum()\n",
        "\n",
        "\n",
        "\n",
        "\n",
        "\n",
        "\n",
        "\n",
        "\n",
        "\n"
      ]
    }
  ]
}